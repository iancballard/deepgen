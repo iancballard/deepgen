{
 "cells": [
  {
   "cell_type": "code",
   "execution_count": 1,
   "metadata": {},
   "outputs": [],
   "source": [
    "import os\n",
    "import numpy as np\n",
    "import pandas as pd\n",
    "from pandas import DataFrame, Series\n",
    "import scipy\n",
    "from moss import glm\n",
    "import seaborn as sns\n",
    "import matplotlib.pyplot as plt\n",
    "import nibabel as nib\n",
    "%matplotlib inline"
   ]
  },
  {
   "cell_type": "code",
   "execution_count": 97,
   "metadata": {},
   "outputs": [],
   "source": [
    "start_offset = 12 #saturation time\n",
    "tr = 2#1.5\n",
    "root_decision_duration = 2\n",
    "choice_decision_duration = .75\n",
    "feedback_duration = 1\n",
    "\n",
    "n_best_models = 20 #number of models to keep\n",
    "nmodels = 5000 #number of models to make\n",
    "\n",
    "#iti params\n",
    "mean_iti = 4.5\n",
    "min_iti = 2 \n",
    "max_iti = 14\n",
    "\n",
    "#isi params (between choice and response cue)\n",
    "mean_isi = 4.5\n",
    "min_isi = 2\n",
    "max_isi = 14\n",
    "\n"
   ]
  },
  {
   "cell_type": "code",
   "execution_count": 123,
   "metadata": {},
   "outputs": [],
   "source": [
    "ntrials = 25"
   ]
  },
  {
   "cell_type": "code",
   "execution_count": 124,
   "metadata": {},
   "outputs": [],
   "source": [
    "def get_isi(mean_isi, min_isi, max_isi, ntrials):\n",
    "    isis = np.random.poisson(lam = mean_isi, size=ntrials*5)\n",
    "    isis = [x for x in isis if x <= max_isi and x >= min_isi]\n",
    "    return np.array(isis[0:ntrials])"
   ]
  },
  {
   "cell_type": "code",
   "execution_count": 131,
   "metadata": {},
   "outputs": [
    {
     "data": {
      "text/plain": [
       "(4.4, 4.52, 4.52, 4.48)"
      ]
     },
     "execution_count": 131,
     "metadata": {},
     "output_type": "execute_result"
    }
   ],
   "source": [
    "isi1 = get_isi(mean_isi, min_isi, max_isi, ntrials)\n",
    "isi2 = get_isi(mean_isi, min_isi, max_isi, ntrials)\n",
    "iti = get_isi(mean_iti,min_iti, max_iti, ntrials)\n",
    "np.mean(isi1),np.mean(isi2),np.mean(iti),np.mean([isi1]+[isi2]+[iti])"
   ]
  },
  {
   "cell_type": "code",
   "execution_count": 132,
   "metadata": {},
   "outputs": [],
   "source": [
    "first_isi = iti\n",
    "itty = isi1"
   ]
  },
  {
   "cell_type": "code",
   "execution_count": 133,
   "metadata": {},
   "outputs": [],
   "source": [
    "isi1 = first_isi\n",
    "iti = itty"
   ]
  },
  {
   "cell_type": "code",
   "execution_count": 134,
   "metadata": {},
   "outputs": [
    {
     "data": {
      "text/plain": [
       "(4.52, 4.52, 4.4, 4.48)"
      ]
     },
     "execution_count": 134,
     "metadata": {},
     "output_type": "execute_result"
    }
   ],
   "source": [
    "np.mean(isi1),np.mean(isi2),np.mean(iti),np.mean([isi1]+[isi2]+[iti])"
   ]
  },
  {
   "cell_type": "code",
   "execution_count": 135,
   "metadata": {},
   "outputs": [],
   "source": [
    "def get_efficiency(contrast = None):\n",
    "\n",
    "    \n",
    "    np.random.shuffle(isi1)\n",
    "    np.random.shuffle(isi2)\n",
    "    np.random.shuffle(iti)\n",
    "    \n",
    "    timing = pd.DataFrame({'isi1':isi1, 'isi2':isi2, 'iti':iti})\n",
    "    \n",
    "    root_times = []\n",
    "    choice_times = []\n",
    "    feedback_times = []\n",
    "    for i in range(ntrials):\n",
    "        if i == 0:\n",
    "            root_times.append(start_offset)\n",
    "        else:\n",
    "            root_times.append(feedback_times[-1] + feedback_duration + iti[i-1])\n",
    "            \n",
    "        choice_times.append(root_times[-1] + root_decision_duration + isi1[i])\n",
    "        feedback_times.append(choice_times[-1] + choice_decision_duration + isi2[i])\n",
    "\n",
    "    \n",
    "    #build design\n",
    "    design = pd.DataFrame({'condition':['root']*ntrials + ['choice']*ntrials + ['feedback']*ntrials,\n",
    "                      'onset': root_times + choice_times + feedback_times,\n",
    "                      'duration': [root_decision_duration]*ntrials + [choice_decision_duration]*ntrials + [feedback_duration]*ntrials,\n",
    "                     })\n",
    " \n",
    "    #convolve \n",
    "    hrf = glm.GammaDifferenceHRF()\n",
    "    ntp = int((feedback_times[-1] + 12)/tr)\n",
    "    model = glm.DesignMatrix(design = design, tr = tr, ntp = ntp, hrf_model = hrf, hpf_cutoff = 128)\n",
    "    X = model.design_matrix.values\n",
    "\n",
    "    #get efficiency\n",
    "    XX = np.linalg.inv((X.T).dot(X))\n",
    "#     if contrast is None:\n",
    "#         eff = 1 / np.trace(XX)\n",
    "#     else:\n",
    "# #         contrast = np.array(model.design_matrix.columns == contrast).astype(int)\n",
    "#         c = contrast.dot(XX).dot(contrast.T)\n",
    "#         eff = 1 / c\n",
    "#     eff = 1 / np.trace(XX)\n",
    "    contrast = np.array([[1, 0, 0], #maximize individual contrast\n",
    "             [0, 1, 0],\n",
    "             [0, 0, 1]])\n",
    "    c = np.trace(contrast.dot(XX).dot(contrast.T))\n",
    "    eff = 1.0/c\n",
    "        \n",
    "    return design,eff,model, timing\n"
   ]
  },
  {
   "cell_type": "code",
   "execution_count": 136,
   "metadata": {},
   "outputs": [
    {
     "data": {
      "text/plain": [
       "(0.211657798181293, 7.295833333333333)"
      ]
     },
     "execution_count": 136,
     "metadata": {},
     "output_type": "execute_result"
    }
   ],
   "source": [
    "design,eff,model,timing = get_efficiency(contrast = None)\n",
    "eff, design['onset'].values[-1]/60"
   ]
  },
  {
   "cell_type": "code",
   "execution_count": 137,
   "metadata": {},
   "outputs": [
    {
     "data": {
      "text/plain": [
       "7.295833333333333"
      ]
     },
     "execution_count": 137,
     "metadata": {},
     "output_type": "execute_result"
    }
   ],
   "source": [
    "design['onset'].values[-1]/60"
   ]
  },
  {
   "cell_type": "code",
   "execution_count": 138,
   "metadata": {},
   "outputs": [
    {
     "name": "stdout",
     "output_type": "stream",
     "text": [
      "0\n",
      "100\n",
      "200\n",
      "300\n",
      "400\n",
      "500\n",
      "600\n",
      "700\n",
      "800\n",
      "900\n",
      "1000\n",
      "1100\n",
      "1200\n",
      "1300\n",
      "1400\n",
      "1500\n",
      "1600\n",
      "1700\n",
      "1800\n",
      "1900\n",
      "2000\n",
      "2100\n",
      "2200\n",
      "2300\n",
      "2400\n",
      "2500\n",
      "2600\n",
      "2700\n",
      "2800\n",
      "2900\n",
      "3000\n",
      "3100\n",
      "3200\n",
      "3300\n",
      "3400\n",
      "3500\n",
      "3600\n",
      "3700\n",
      "3800\n",
      "3900\n",
      "4000\n",
      "4100\n",
      "4200\n",
      "4300\n",
      "4400\n",
      "4500\n",
      "4600\n",
      "4700\n",
      "4800\n",
      "4900\n"
     ]
    }
   ],
   "source": [
    "#enumerate lots of models\n",
    "model_list = []\n",
    "for i in range(nmodels):\n",
    "    model_list.append(get_efficiency())\n",
    "    \n",
    "    if i%100 == 0:\n",
    "        print(i)"
   ]
  },
  {
   "cell_type": "code",
   "execution_count": 139,
   "metadata": {},
   "outputs": [],
   "source": [
    "model_list.sort(key=lambda x: x[1],reverse=True) #sort"
   ]
  },
  {
   "cell_type": "code",
   "execution_count": 140,
   "metadata": {
    "scrolled": true
   },
   "outputs": [
    {
     "data": {
      "text/plain": [
       "(array([  10.,   26.,  117.,  398.,  961., 1435., 1300.,  632.,  111.,\n",
       "          10.]),\n",
       " array([0.18647662, 0.19264949, 0.19882237, 0.20499524, 0.21116812,\n",
       "        0.21734099, 0.22351387, 0.22968675, 0.23585962, 0.2420325 ,\n",
       "        0.24820537]),\n",
       " <a list of 10 Patch objects>)"
      ]
     },
     "execution_count": 140,
     "metadata": {},
     "output_type": "execute_result"
    },
    {
     "data": {
      "image/png": "[encoded data removed]",
      "text/plain": [
       "<Figure size 432x288 with 1 Axes>"
      ]
     },
     "metadata": {
      "needs_background": "light"
     },
     "output_type": "display_data"
    }
   ],
   "source": [
    "#plot efficiencies\n",
    "effs = [x[1] for x in model_list]\n",
    "plt.hist(effs)"
   ]
  },
  {
   "cell_type": "code",
   "execution_count": 141,
   "metadata": {},
   "outputs": [],
   "source": [
    "# #save top models\n",
    "# model_clean = []\n",
    "# for model, d, d2 in model_list:\n",
    "    \n",
    "#     cond = [x for x in model['condition'] if x != 'choice']\n",
    "#     if cond[0] != 'neg':\n",
    "#         model_clean.append(model)\n"
   ]
  },
  {
   "cell_type": "code",
   "execution_count": 142,
   "metadata": {
    "scrolled": true
   },
   "outputs": [
    {
     "name": "stdout",
     "output_type": "stream",
     "text": [
      "0.2482053733692646\n",
      "0.2461131653183302\n",
      "0.2449587113070049\n",
      "0.2438707003203922\n",
      "0.24347821709151576\n",
      "0.24308534648683583\n",
      "0.24262420848308802\n",
      "0.24257110590249206\n",
      "0.24236918600848842\n",
      "0.24214499217039967\n",
      "0.24200133850627706\n",
      "0.2419819913569413\n",
      "0.24183342149774675\n",
      "0.2417969652385085\n",
      "0.24170010531109637\n",
      "0.2415411524807605\n",
      "0.24153694655501712\n",
      "0.24152519761182764\n",
      "0.241467535342529\n",
      "0.2412800993503551\n",
      "0.2406818564898011\n"
     ]
    }
   ],
   "source": [
    "#save top models\n",
    "for i, (design,eff,model, timing) in enumerate(model_list):\n",
    "    \n",
    "    if i > n_best_models:\n",
    "        break\n",
    "    \n",
    "    out_f = os.path.abspath('../fmri_task/timing/12_runs/run' + str(i) + '.csv')\n",
    "    design.to_csv(out_f,index = False)\n",
    "    \n",
    "    out_f = os.path.abspath('../fmri_task/timing/12_runs/run' + str(i) + '_timing.csv')\n",
    "    timing.to_csv(out_f,index = False)\n",
    "    print(eff)"
   ]
  },
  {
   "cell_type": "code",
   "execution_count": 109,
   "metadata": {
    "scrolled": true
   },
   "outputs": [
    {
     "data": {
      "text/plain": [
       "268.0"
      ]
     },
     "execution_count": 109,
     "metadata": {},
     "output_type": "execute_result"
    }
   ],
   "source": [
    "536/2"
   ]
  },
  {
   "cell_type": "code",
   "execution_count": 110,
   "metadata": {},
   "outputs": [
    {
     "data": {
      "text/plain": [
       "8.933333333333334"
      ]
     },
     "execution_count": 110,
     "metadata": {},
     "output_type": "execute_result"
    }
   ],
   "source": [
    "536/60"
   ]
  }
 ],
 "metadata": {
  "kernelspec": {
   "display_name": "Python 3",
   "language": "python",
   "name": "python3"
  },
  "language_info": {
   "codemirror_mode": {
    "name": "ipython",
    "version": 3
   },
   "file_extension": ".py",
   "mimetype": "text/x-python",
   "name": "python",
   "nbconvert_exporter": "python",
   "pygments_lexer": "ipython3",
   "version": "3.7.6"
  }
 },
 "nbformat": 4,
 "nbformat_minor": 1
}
